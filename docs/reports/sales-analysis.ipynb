{
 "cells": [
  {
   "cell_type": "markdown",
   "id": "9ff8bf3a",
   "metadata": {},
   "source": [
    "# Sales Analysis Q3 2025\n",
    "\n",
    "**Author**: Your Name  \n",
    "**Date**: 2025-08-23  \n",
    "**Tags**: sales, analysis, Q3\n",
    "\n",
    "This notebook analyzes sales performance for Q3 2025."
   ]
  },
  {
   "cell_type": "code",
   "execution_count": null,
   "id": "b96e38eb",
   "metadata": {},
   "outputs": [],
   "source": [
    "import pandas as pd\n",
    "import matplotlib.pyplot as plt\n",
    "import numpy as np\n",
    "\n",
    "# Set up plotting\n",
    "plt.style.use('default')\n",
    "plt.rcParams['figure.figsize'] = (10, 6)"
   ]
  },
  {
   "cell_type": "markdown",
   "id": "61ae3687",
   "metadata": {},
   "source": [
    "## Data Loading\n",
    "\n",
    "Load the sales data from our assets folder:"
   ]
  },
  {
   "cell_type": "code",
   "execution_count": null,
   "id": "1742f650",
   "metadata": {},
   "outputs": [],
   "source": [
    "# Load data from the assets folder\n",
    "# Note: Path relative to the notebook location\n",
    "data_path = '../assets/sales-analysis/sales_data.csv'\n",
    "df = pd.read_csv(data_path)\n",
    "\n",
    "print(f\"Dataset shape: {df.shape}\")\n",
    "df.head()"
   ]
  },
  {
   "cell_type": "markdown",
   "id": "78141fc1",
   "metadata": {},
   "source": [
    "## Analysis\n",
    "\n",
    "Let's analyze the sales trends:"
   ]
  },
  {
   "cell_type": "code",
   "execution_count": null,
   "id": "bda74bbe",
   "metadata": {},
   "outputs": [],
   "source": [
    "# Create sample analysis\n",
    "monthly_sales = df.groupby('month')['sales'].sum() if 'month' in df.columns else pd.Series([100, 120, 150], index=['Jul', 'Aug', 'Sep'])\n",
    "\n",
    "plt.figure(figsize=(10, 6))\n",
    "monthly_sales.plot(kind='bar')\n",
    "plt.title('Monthly Sales - Q3 2025')\n",
    "plt.ylabel('Sales ($)')\n",
    "plt.xlabel('Month')\n",
    "plt.xticks(rotation=45)\n",
    "plt.tight_layout()\n",
    "plt.show()"
   ]
  },
  {
   "cell_type": "markdown",
   "id": "d286e3df",
   "metadata": {},
   "source": [
    "## Key Findings\n",
    "\n",
    "- Sales showed consistent growth throughout Q3\n",
    "- September was the strongest month\n",
    "- Overall Q3 performance exceeded expectations"
   ]
  }
 ],
 "metadata": {
  "language_info": {
   "name": "python"
  }
 },
 "nbformat": 4,
 "nbformat_minor": 5
}
